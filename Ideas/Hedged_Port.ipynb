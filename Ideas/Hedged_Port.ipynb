{
 "cells": [
  {
   "cell_type": "code",
   "execution_count": 1,
   "id": "3fe05692-6b29-4cb7-8d5f-a7eb86605e47",
   "metadata": {},
   "outputs": [],
   "source": [
    "import yfinance as yf\n",
    "import pandas_datareader.data as web\n",
    "import pandas as pd\n",
    "import numpy as np\n",
    "import datetime as dt\n",
    "import statsmodels.api as sm\n",
    "import warnings\n",
    "from scipy.stats import pearsonr\n",
    "warnings.filterwarnings(\"ignore\")"
   ]
  },
  {
   "cell_type": "code",
   "execution_count": 2,
   "id": "6c1c80d4-536f-4900-b8ac-69872b7519a1",
   "metadata": {},
   "outputs": [
    {
     "name": "stderr",
     "output_type": "stream",
     "text": [
      "[*********************100%***********************]  3 of 3 completed\n"
     ]
    },
    {
     "data": {
      "text/plain": [
       "Date\n",
       "2020-01-02 00:00:00+00:00    0.000000\n",
       "2020-01-03 00:00:00+00:00   -0.027405\n",
       "2020-01-06 00:00:00+00:00    0.037207\n",
       "2020-01-07 00:00:00+00:00   -0.015752\n",
       "2020-01-08 00:00:00+00:00    0.039132\n",
       "                               ...   \n",
       "2024-12-23 00:00:00+00:00    0.016795\n",
       "2024-12-24 00:00:00+00:00    0.028456\n",
       "2024-12-26 00:00:00+00:00   -0.002202\n",
       "2024-12-27 00:00:00+00:00   -0.045063\n",
       "2024-12-30 00:00:00+00:00   -0.034388\n",
       "Name: port_returns, Length: 1257, dtype: float64"
      ]
     },
     "execution_count": 2,
     "metadata": {},
     "output_type": "execute_result"
    }
   ],
   "source": [
    "tickers = ['AAPL', 'MSFT', 'GOOGL']\n",
    "start_date = \"2020-01-01\"\n",
    "end_date = \"2024-12-31\"\n",
    "\n",
    "stock_data = yf.download(\n",
    "    tickers, \n",
    "    start=start_date, \n",
    "    end=end_date\n",
    ")['Adj Close']\n",
    "\n",
    "#From this point on all can stay the same if you were to input ur own portolfio with its returns above. \n",
    "#Therefore you can hedge ur shrape ratio for other strategies \n",
    "\n",
    "\n",
    "port_returns = (\n",
    "    stock_data\n",
    "    .pct_change()\n",
    "    .sum(axis=1)\n",
    ")\n",
    "\n",
    "port_returns.name = \"port_returns\"\n",
    "cumulative_ret = (port_returns + 1).cumprod()\n",
    "port_returns"
   ]
  },
  {
   "cell_type": "code",
   "execution_count": 3,
   "id": "e5db4bba-f4ee-4a33-bd70-04e9ccb911f1",
   "metadata": {},
   "outputs": [
    {
     "name": "stdout",
     "output_type": "stream",
     "text": [
      "hedged_returns    0.078856\n",
      "dtype: float64\n"
     ]
    }
   ],
   "source": [
    "fama_french = web.DataReader(\n",
    "    \"F-F_Research_Data_Factors_daily\",\n",
    "    \"famafrench\",\n",
    "    start_date,\n",
    "    end_date\n",
    ")[0]\n",
    "\n",
    "fama_french = fama_french / 100  # Convert to decimals\n",
    "fama_french.index = fama_french.index.tz_localize(\"UTC\")\n",
    "\n",
    "data = fama_french.join(port_returns, how=\"inner\")\n",
    "\n",
    "excess_returns = data.port_returns - data.RF\n",
    "\n",
    "\n",
    "# Prepare X variables\n",
    "X = data[[\"SMB\", \"HML\"]]\n",
    "X = sm.add_constant(X)\n",
    "\n",
    "# Rolling regression setup\n",
    "window_size = 100  # One year of daily data\n",
    "\n",
    "rolling_params = []\n",
    "for start in range(len(data) - window_size + 1):\n",
    "    end = start + window_size\n",
    "    X_window = X.iloc[start:end]\n",
    "    y_window = excess_returns.iloc[start:end]\n",
    "    \n",
    "    model = sm.OLS(y_window, X_window).fit()\n",
    "    rolling_params.append(model.params)\n",
    "\n",
    "rolling_params_df = pd.DataFrame(rolling_params, index=data.index[window_size-1:], columns=X.columns)\n",
    "\n",
    "# Unhedged returns remain constant for the entire dataset\n",
    "unhedged_returns = port_returns\n",
    "\n",
    "# Calculate hedge portfolio for rolling regression\n",
    "rolling_hedge_weights = -rolling_params_df[[\"SMB\", \"HML\"]]\n",
    "\n",
    "# Align indices for hedge portfolio\n",
    "rolling_hedge_portfolio = (\n",
    "    data[[\"SMB\", \"HML\"]]\n",
    "    .loc[rolling_hedge_weights.index]\n",
    "    .values * rolling_hedge_weights.values\n",
    ").sum(axis=1)\n",
    "\n",
    "rolling_hedge_portfolio = pd.Series(\n",
    "    rolling_hedge_portfolio,\n",
    "    index=rolling_hedge_weights.index,\n",
    "    name=\"hedge_portfolio\"\n",
    ")\n",
    "\n",
    "# Adjust portfolio returns with rolling hedge\n",
    "rolling_hedged_portfolio_returns = unhedged_returns.loc[rolling_hedge_portfolio.index] + rolling_hedge_portfolio\n",
    "\n",
    "# Create a DataFrame for comparison\n",
    "hedge = pd.DataFrame({  # Use the full unhedged returns directly\n",
    "    \"hedged_returns\": rolling_hedged_portfolio_returns\n",
    "})\n",
    "\n",
    "# Ensure consistent index for comparisons\n",
    "hedge = hedge.loc[rolling_hedged_portfolio_returns.index]\n",
    "\n",
    "# Performance metrics\n",
    "sharpe = hedge.mean() / hedge.std()\n",
    "print(sharpe)"
   ]
  },
  {
   "cell_type": "code",
   "execution_count": 4,
   "id": "82cd7d45-e677-46a5-8946-0d9e76d89670",
   "metadata": {},
   "outputs": [
    {
     "data": {
      "text/plain": [
       "unhedged_returns    0.057647\n",
       "hedged_returns      0.061138\n",
       "dtype: float64"
      ]
     },
     "execution_count": 4,
     "metadata": {},
     "output_type": "execute_result"
    }
   ],
   "source": [
    "#For regression\n",
    "X = data[[\"SMB\", \"HML\"]]\n",
    "\n",
    "X = sm.add_constant(X)\n",
    "\n",
    "model = sm.OLS(excess_returns, X).fit()\n",
    "\n",
    "hedge_weights = -model.params[1:]\n",
    "\n",
    "hedge_portfolio = (data[[\"SMB\", \"HML\"]] @ hedge_weights).dropna()\n",
    "\n",
    "hedged_portfolio_returns = port_returns.loc[hedge_portfolio.index] + hedge_portfolio\n",
    "\n",
    "hedge = pd.DataFrame({\n",
    "    \"unhedged_returns\": port_returns.loc[hedged_portfolio_returns.index],\n",
    "    \"hedged_returns\": hedged_portfolio_returns\n",
    "})\n",
    "\n",
    "hedge.mean() / hedge.std()"
   ]
  },
  {
   "cell_type": "code",
   "execution_count": null,
   "id": "74200baa-ac49-4785-ad9f-e568d26777e8",
   "metadata": {},
   "outputs": [],
   "source": []
  }
 ],
 "metadata": {
  "kernelspec": {
   "display_name": "Python 3 (ipykernel)",
   "language": "python",
   "name": "python3"
  },
  "language_info": {
   "codemirror_mode": {
    "name": "ipython",
    "version": 3
   },
   "file_extension": ".py",
   "mimetype": "text/x-python",
   "name": "python",
   "nbconvert_exporter": "python",
   "pygments_lexer": "ipython3",
   "version": "3.12.6"
  }
 },
 "nbformat": 4,
 "nbformat_minor": 5
}
